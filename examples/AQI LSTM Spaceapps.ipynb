{
 "cells": [
  {
   "cell_type": "markdown",
   "metadata": {},
   "source": [
    "# LSTM for PM 2.5 estimations\n",
    "\n",
    "Particulate Matter (PM) of size 2.5 µm are known to have significant health effects. Due to limited spatial and temporal coverage of surface PM 2.5 monitors, using data from geostationary satellites to estimate the surface levels can prove beneficial. In addition, meteorlogical factors that affect the surface PM2.5 levels may also help in generating more accurate estimations. \n",
    "\n",
    "### Dataset sources\n",
    "<ul>\n",
    "<li>GOES-R Aerosol Optical Depth Products</li>\n",
    "<li>NOAA High Resolution Rapid Refresh (HRRR) model</li>\n",
    "<li>EPA AirData</li>\n",
    "</ul>"
   ]
  },
  {
   "cell_type": "markdown",
   "metadata": {},
   "source": [
    "## Import required python packages"
   ]
  },
  {
   "cell_type": "code",
   "execution_count": 1,
   "metadata": {},
   "outputs": [],
   "source": [
    "import os\n",
    "import math\n",
    "import numpy as np\n",
    "import pandas as pd\n",
    "import tensorflow as tf\n",
    "import matplotlib.pyplot as plt\n",
    "from keras.models import Sequential\n",
    "from keras.optimizers import Adam\n",
    "from keras.layers import Dense\n",
    "from keras.layers import LSTM,TimeDistributed\n",
    "from sklearn.preprocessing import MinMaxScaler\n",
    "from sklearn.metrics import mean_squared_error\n",
    "from sklearn.model_selection import train_test_split\n",
    "from keras.callbacks import EarlyStopping, ModelCheckpoint"
   ]
  },
  {
   "cell_type": "markdown",
   "metadata": {},
   "source": [
    "## Load the dataset\n",
    "\n",
    "lstm_dataset.csv file has data sorted according to the stations and time. \n",
    "you can download the csv file from the following s3 link: s3://impact-datashare/pm2.5-labeled\n",
    "lstm_dataset.csv features:\n",
    "    <ul>\n",
    "    <li>staion_id:  Unique identifier of the PM 2.5 monitors stationed accross US\n",
    "    <li>stime: Time and date of sample recorded\n",
    "    <li>air_data_value: EPA air data PM2.5 readings\n",
    "    <li>RH: relative humidity from HRRR\n",
    "    <li>UGRD, VGRD: Wind speed vectors from HRRR\n",
    "    <li>HPBL: Height of Planetary Boundary Layer from HRRR\n",
    "    <li>TMP: Temperature recorded from HRRR\n",
    "    <li>goes_measurement: AOD reading from GOES R\n",
    "    </ul>"
   ]
  },
  {
   "cell_type": "code",
   "execution_count": 2,
   "metadata": {},
   "outputs": [
    {
     "data": {
      "text/html": [
       "<div>\n",
       "<style scoped>\n",
       "    .dataframe tbody tr th:only-of-type {\n",
       "        vertical-align: middle;\n",
       "    }\n",
       "\n",
       "    .dataframe tbody tr th {\n",
       "        vertical-align: top;\n",
       "    }\n",
       "\n",
       "    .dataframe thead th {\n",
       "        text-align: right;\n",
       "    }\n",
       "</style>\n",
       "<table border=\"1\" class=\"dataframe\">\n",
       "  <thead>\n",
       "    <tr style=\"text-align: right;\">\n",
       "      <th></th>\n",
       "      <th>Unnamed: 0</th>\n",
       "      <th>station_id</th>\n",
       "      <th>stime</th>\n",
       "      <th>air_data_value</th>\n",
       "      <th>RH</th>\n",
       "      <th>UGRD</th>\n",
       "      <th>VGRD</th>\n",
       "      <th>HPBL</th>\n",
       "      <th>TMP</th>\n",
       "      <th>goes_measurement</th>\n",
       "      <th>air_data_t1</th>\n",
       "      <th>air_data_t2</th>\n",
       "      <th>air_data_t3</th>\n",
       "      <th>air_data_t4</th>\n",
       "    </tr>\n",
       "  </thead>\n",
       "  <tbody>\n",
       "    <tr>\n",
       "      <th>0</th>\n",
       "      <td>0</td>\n",
       "      <td>06-011-0007</td>\n",
       "      <td>2019-01-02 20:00:00</td>\n",
       "      <td>17.0</td>\n",
       "      <td>31.6</td>\n",
       "      <td>-2.106623</td>\n",
       "      <td>-1.797583</td>\n",
       "      <td>256.619050</td>\n",
       "      <td>282.81880</td>\n",
       "      <td>-0.005922</td>\n",
       "      <td>NaN</td>\n",
       "      <td>NaN</td>\n",
       "      <td>NaN</td>\n",
       "      <td>NaN</td>\n",
       "    </tr>\n",
       "    <tr>\n",
       "      <th>1</th>\n",
       "      <td>1</td>\n",
       "      <td>06-011-0007</td>\n",
       "      <td>2019-01-02 21:00:00</td>\n",
       "      <td>13.0</td>\n",
       "      <td>29.7</td>\n",
       "      <td>-1.850205</td>\n",
       "      <td>-1.558695</td>\n",
       "      <td>261.172200</td>\n",
       "      <td>283.30810</td>\n",
       "      <td>0.007718</td>\n",
       "      <td>17.0</td>\n",
       "      <td>NaN</td>\n",
       "      <td>NaN</td>\n",
       "      <td>NaN</td>\n",
       "    </tr>\n",
       "    <tr>\n",
       "      <th>2</th>\n",
       "      <td>2</td>\n",
       "      <td>06-011-0007</td>\n",
       "      <td>2019-01-02 22:00:00</td>\n",
       "      <td>12.0</td>\n",
       "      <td>30.6</td>\n",
       "      <td>-1.785869</td>\n",
       "      <td>-0.232563</td>\n",
       "      <td>267.256680</td>\n",
       "      <td>283.81530</td>\n",
       "      <td>-0.036437</td>\n",
       "      <td>13.0</td>\n",
       "      <td>17.0</td>\n",
       "      <td>NaN</td>\n",
       "      <td>NaN</td>\n",
       "    </tr>\n",
       "    <tr>\n",
       "      <th>3</th>\n",
       "      <td>3</td>\n",
       "      <td>06-011-0007</td>\n",
       "      <td>2019-01-02 23:00:00</td>\n",
       "      <td>9.0</td>\n",
       "      <td>28.4</td>\n",
       "      <td>-1.616623</td>\n",
       "      <td>0.305026</td>\n",
       "      <td>216.315490</td>\n",
       "      <td>284.47230</td>\n",
       "      <td>-0.050000</td>\n",
       "      <td>12.0</td>\n",
       "      <td>13.0</td>\n",
       "      <td>17.0</td>\n",
       "      <td>NaN</td>\n",
       "    </tr>\n",
       "    <tr>\n",
       "      <th>4</th>\n",
       "      <td>4</td>\n",
       "      <td>06-011-0007</td>\n",
       "      <td>2019-01-03 19:00:00</td>\n",
       "      <td>21.0</td>\n",
       "      <td>59.8</td>\n",
       "      <td>-1.234421</td>\n",
       "      <td>0.071434</td>\n",
       "      <td>124.361984</td>\n",
       "      <td>279.52660</td>\n",
       "      <td>0.039313</td>\n",
       "      <td>NaN</td>\n",
       "      <td>NaN</td>\n",
       "      <td>NaN</td>\n",
       "      <td>NaN</td>\n",
       "    </tr>\n",
       "    <tr>\n",
       "      <th>...</th>\n",
       "      <td>...</td>\n",
       "      <td>...</td>\n",
       "      <td>...</td>\n",
       "      <td>...</td>\n",
       "      <td>...</td>\n",
       "      <td>...</td>\n",
       "      <td>...</td>\n",
       "      <td>...</td>\n",
       "      <td>...</td>\n",
       "      <td>...</td>\n",
       "      <td>...</td>\n",
       "      <td>...</td>\n",
       "      <td>...</td>\n",
       "      <td>...</td>\n",
       "    </tr>\n",
       "    <tr>\n",
       "      <th>31565</th>\n",
       "      <td>31565</td>\n",
       "      <td>56-039-1013</td>\n",
       "      <td>2019-08-30 17:00:00</td>\n",
       "      <td>3.0</td>\n",
       "      <td>55.0</td>\n",
       "      <td>2.466133</td>\n",
       "      <td>1.142420</td>\n",
       "      <td>665.376300</td>\n",
       "      <td>287.81610</td>\n",
       "      <td>0.185881</td>\n",
       "      <td>NaN</td>\n",
       "      <td>5.9</td>\n",
       "      <td>2.2</td>\n",
       "      <td>NaN</td>\n",
       "    </tr>\n",
       "    <tr>\n",
       "      <th>31566</th>\n",
       "      <td>31566</td>\n",
       "      <td>56-039-1013</td>\n",
       "      <td>2019-08-31 16:00:00</td>\n",
       "      <td>5.4</td>\n",
       "      <td>66.0</td>\n",
       "      <td>-0.575478</td>\n",
       "      <td>1.027882</td>\n",
       "      <td>157.645100</td>\n",
       "      <td>285.39597</td>\n",
       "      <td>0.060812</td>\n",
       "      <td>NaN</td>\n",
       "      <td>NaN</td>\n",
       "      <td>NaN</td>\n",
       "      <td>NaN</td>\n",
       "    </tr>\n",
       "    <tr>\n",
       "      <th>31567</th>\n",
       "      <td>31567</td>\n",
       "      <td>56-039-1013</td>\n",
       "      <td>2019-08-31 17:00:00</td>\n",
       "      <td>4.1</td>\n",
       "      <td>53.8</td>\n",
       "      <td>0.344164</td>\n",
       "      <td>1.428810</td>\n",
       "      <td>567.691600</td>\n",
       "      <td>287.80325</td>\n",
       "      <td>0.226491</td>\n",
       "      <td>5.4</td>\n",
       "      <td>NaN</td>\n",
       "      <td>NaN</td>\n",
       "      <td>NaN</td>\n",
       "    </tr>\n",
       "    <tr>\n",
       "      <th>31568</th>\n",
       "      <td>31568</td>\n",
       "      <td>56-039-1013</td>\n",
       "      <td>2019-08-31 22:00:00</td>\n",
       "      <td>4.1</td>\n",
       "      <td>24.1</td>\n",
       "      <td>4.530006</td>\n",
       "      <td>2.375885</td>\n",
       "      <td>1744.444100</td>\n",
       "      <td>294.63544</td>\n",
       "      <td>0.016734</td>\n",
       "      <td>NaN</td>\n",
       "      <td>NaN</td>\n",
       "      <td>NaN</td>\n",
       "      <td>NaN</td>\n",
       "    </tr>\n",
       "    <tr>\n",
       "      <th>31569</th>\n",
       "      <td>31569</td>\n",
       "      <td>56-039-1013</td>\n",
       "      <td>2019-08-31 23:00:00</td>\n",
       "      <td>2.6</td>\n",
       "      <td>21.4</td>\n",
       "      <td>4.337727</td>\n",
       "      <td>1.842142</td>\n",
       "      <td>1562.929700</td>\n",
       "      <td>294.14343</td>\n",
       "      <td>0.027831</td>\n",
       "      <td>4.1</td>\n",
       "      <td>NaN</td>\n",
       "      <td>NaN</td>\n",
       "      <td>NaN</td>\n",
       "    </tr>\n",
       "  </tbody>\n",
       "</table>\n",
       "<p>31570 rows × 14 columns</p>\n",
       "</div>"
      ],
      "text/plain": [
       "       Unnamed: 0   station_id                stime  air_data_value    RH  \\\n",
       "0               0  06-011-0007  2019-01-02 20:00:00            17.0  31.6   \n",
       "1               1  06-011-0007  2019-01-02 21:00:00            13.0  29.7   \n",
       "2               2  06-011-0007  2019-01-02 22:00:00            12.0  30.6   \n",
       "3               3  06-011-0007  2019-01-02 23:00:00             9.0  28.4   \n",
       "4               4  06-011-0007  2019-01-03 19:00:00            21.0  59.8   \n",
       "...           ...          ...                  ...             ...   ...   \n",
       "31565       31565  56-039-1013  2019-08-30 17:00:00             3.0  55.0   \n",
       "31566       31566  56-039-1013  2019-08-31 16:00:00             5.4  66.0   \n",
       "31567       31567  56-039-1013  2019-08-31 17:00:00             4.1  53.8   \n",
       "31568       31568  56-039-1013  2019-08-31 22:00:00             4.1  24.1   \n",
       "31569       31569  56-039-1013  2019-08-31 23:00:00             2.6  21.4   \n",
       "\n",
       "           UGRD      VGRD         HPBL        TMP  goes_measurement  \\\n",
       "0     -2.106623 -1.797583   256.619050  282.81880         -0.005922   \n",
       "1     -1.850205 -1.558695   261.172200  283.30810          0.007718   \n",
       "2     -1.785869 -0.232563   267.256680  283.81530         -0.036437   \n",
       "3     -1.616623  0.305026   216.315490  284.47230         -0.050000   \n",
       "4     -1.234421  0.071434   124.361984  279.52660          0.039313   \n",
       "...         ...       ...          ...        ...               ...   \n",
       "31565  2.466133  1.142420   665.376300  287.81610          0.185881   \n",
       "31566 -0.575478  1.027882   157.645100  285.39597          0.060812   \n",
       "31567  0.344164  1.428810   567.691600  287.80325          0.226491   \n",
       "31568  4.530006  2.375885  1744.444100  294.63544          0.016734   \n",
       "31569  4.337727  1.842142  1562.929700  294.14343          0.027831   \n",
       "\n",
       "       air_data_t1  air_data_t2  air_data_t3  air_data_t4  \n",
       "0              NaN          NaN          NaN          NaN  \n",
       "1             17.0          NaN          NaN          NaN  \n",
       "2             13.0         17.0          NaN          NaN  \n",
       "3             12.0         13.0         17.0          NaN  \n",
       "4              NaN          NaN          NaN          NaN  \n",
       "...            ...          ...          ...          ...  \n",
       "31565          NaN          5.9          2.2          NaN  \n",
       "31566          NaN          NaN          NaN          NaN  \n",
       "31567          5.4          NaN          NaN          NaN  \n",
       "31568          NaN          NaN          NaN          NaN  \n",
       "31569          4.1          NaN          NaN          NaN  \n",
       "\n",
       "[31570 rows x 14 columns]"
      ]
     },
     "execution_count": 2,
     "metadata": {},
     "output_type": "execute_result"
    }
   ],
   "source": [
    "np.random.seed(7)\n",
    "# load the dataset\n",
    "lstm_df=pd.read_csv('lstm_dataset.csv')\n",
    "lstm_df"
   ]
  },
  {
   "cell_type": "markdown",
   "metadata": {},
   "source": [
    "##  Preprocess the data\n",
    "\n",
    "LSTM network expects the input data to be provided with a specific array structure in the form of: [samples, time steps, features]. We load the csv file and only retain the feature and target columns. The features and target are stored in separate np arrays."
   ]
  },
  {
   "cell_type": "code",
   "execution_count": 3,
   "metadata": {},
   "outputs": [],
   "source": [
    "#retain features and target\n",
    "df=lstm_df.drop(lstm_df.columns[:3], axis=1)\n",
    "# load data and labels in array\n",
    "narray=np.array(df)\n",
    "\n",
    "#split features and labels\n",
    "target=np.array(narray[:,0])\n",
    "narray=narray[:,1:7]"
   ]
  },
  {
   "cell_type": "markdown",
   "metadata": {},
   "source": [
    "## Normalization of feature vectors\n",
    "\n",
    "There is a variation in the range of the feature vectors. In order to allow the network to quicly learn the optimal parameters for each input node, we normalize the data using MinMaxScaler that shrinks the range between 0 and 1."
   ]
  },
  {
   "cell_type": "code",
   "execution_count": 4,
   "metadata": {},
   "outputs": [],
   "source": [
    "# normalize the features\n",
    "scaler = MinMaxScaler(feature_range=(0, 1))\n",
    "narray = scaler.fit_transform(narray)"
   ]
  },
  {
   "cell_type": "markdown",
   "metadata": {},
   "source": [
    "Window period of 4 hours is considered for this analysis. Therefore only the samples that have previous 4 hours samples are considered. The samples are extracted by checking the value are available for the columns [air_data_t1, air_data_t2,air_data_t3,air_data_t4] in the csv.\n",
    "<ul>\n",
    "    <li>air_data_t1: Air data value for time (t-1)</li>\n",
    "    <li>air_data_t2: Air data value for time (t-2)</li>\n",
    "    <li>air_data_t3: Air data value for time (t-3)</li>\n",
    "    <li>air_data_t4: Air data value for time (t-4)</li>\n",
    "    </ul>"
   ]
  },
  {
   "cell_type": "code",
   "execution_count": 5,
   "metadata": {},
   "outputs": [],
   "source": [
    "# extract indices for samples that have previous 4 hour data\n",
    "lstm_valid_ind=[]\n",
    "for ind,samples in df.iterrows():\n",
    "    if not(math.isnan(samples['air_data_t1']) or math.isnan(samples['air_data_t2']) or math.isnan(samples['air_data_t3']) or math.isnan(samples['air_data_t4'])):\n",
    "        lstm_valid_ind.append(ind)"
   ]
  },
  {
   "cell_type": "markdown",
   "metadata": {},
   "source": [
    "The create_dataset function creates the dataset matrix in the form required by LSTM. look_back is the number of steps/window required."
   ]
  },
  {
   "cell_type": "code",
   "execution_count": 6,
   "metadata": {},
   "outputs": [],
   "source": [
    "# convert an array of values into a dataset matrix\n",
    "def create_dataset(dataset,target, look_back=1):\n",
    "    dataX, dataY = [], []\n",
    "    for i in lstm_valid_ind:\n",
    "        a = dataset[(i-look_back+1):i+1, :]\n",
    "        dataX.append(a)\n",
    "        dataY.append(target[i])\n",
    "    return np.array(dataX), np.array(dataY)"
   ]
  },
  {
   "cell_type": "markdown",
   "metadata": {},
   "source": [
    "### Dataset matrix creation\n",
    "\n",
    "features and target are supplied to create_dataset function to generate data with a window(look_back) of 4 "
   ]
  },
  {
   "cell_type": "code",
   "execution_count": 7,
   "metadata": {},
   "outputs": [],
   "source": [
    "look_back = 4\n",
    "X,Y= create_dataset(narray,target, look_back)"
   ]
  },
  {
   "cell_type": "markdown",
   "metadata": {},
   "source": [
    "### Train-Test-Validation split\n",
    "\n",
    "The dataset is divided into training, test and validation set in the ratio (60:20:20).\n"
   ]
  },
  {
   "cell_type": "code",
   "execution_count": 8,
   "metadata": {},
   "outputs": [],
   "source": [
    "# split into train-test\n",
    "trainX, testX, trainY, testY = train_test_split(X, Y, test_size=0.30, random_state=1)\n",
    "# split data into train-validation set\n",
    "X_train, X_val, y_train, y_val = train_test_split(trainX, trainY, test_size=0.25, random_state=1)"
   ]
  },
  {
   "cell_type": "markdown",
   "metadata": {},
   "source": [
    "## LSTM Model\n",
    "<ul>\n",
    "<li>optimizer: Adam</li>\n",
    "<li>loss function: Mean squared error</li>\n",
    "<li>learning rate: 0.001</li>\n",
    "    </ul>"
   ]
  },
  {
   "cell_type": "code",
   "execution_count": 12,
   "metadata": {},
   "outputs": [
    {
     "name": "stdout",
     "output_type": "stream",
     "text": [
      "Model: \"sequential_1\"\n",
      "_________________________________________________________________\n",
      "Layer (type)                 Output Shape              Param #   \n",
      "=================================================================\n",
      "lstm_4 (LSTM)                (None, 4, 32)             4992      \n",
      "_________________________________________________________________\n",
      "lstm_5 (LSTM)                (None, 4, 16)             3136      \n",
      "_________________________________________________________________\n",
      "lstm_6 (LSTM)                (None, 4, 8)              800       \n",
      "_________________________________________________________________\n",
      "lstm_7 (LSTM)                (None, 4)                 208       \n",
      "_________________________________________________________________\n",
      "dense_3 (Dense)              (None, 30)                150       \n",
      "_________________________________________________________________\n",
      "dense_4 (Dense)              (None, 20)                620       \n",
      "_________________________________________________________________\n",
      "dense_5 (Dense)              (None, 1)                 21        \n",
      "=================================================================\n",
      "Total params: 9,927\n",
      "Trainable params: 9,927\n",
      "Non-trainable params: 0\n",
      "_________________________________________________________________\n"
     ]
    }
   ],
   "source": [
    "# create and fit the LSTM network\n",
    "model = Sequential()\n",
    "model.add(LSTM(32,return_sequences=True, input_shape=(look_back,6)))\n",
    "model.add(LSTM(16, return_sequences=True))\n",
    "model.add(LSTM(8, return_sequences=True))\n",
    "model.add(LSTM(4))\n",
    "model.add(Dense(30))\n",
    "# model.add(Dense(30,kernel_regularizer=regularizers.l2(0.01)))\n",
    "model.add(Dense(20))\n",
    "model.add(Dense(1))\n",
    "model.summary()\n",
    "# optimizer = Adam(lr=0.0001)\n",
    "model.compile(loss='mean_squared_error', optimizer='adam')\n",
    "checkpoint_path='./testmodel.h5'\n",
    "keras_callbacks   = [\n",
    "      EarlyStopping(monitor='val_loss', patience=60, mode='min', min_delta=0.0001),\n",
    "      ModelCheckpoint(checkpoint_path, monitor='val_loss', save_best_only=True, mode='min')\n",
    "]\n"
   ]
  },
  {
   "cell_type": "code",
   "execution_count": null,
   "metadata": {},
   "outputs": [],
   "source": [
    "history=model.fit(trainX, trainY, epochs=1000, batch_size=16, verbose=2, validation_data=(X_val,y_val), shuffle=True,callbacks=keras_callbacks)"
   ]
  },
  {
   "cell_type": "markdown",
   "metadata": {},
   "source": [
    "## Model Predictions"
   ]
  },
  {
   "cell_type": "code",
   "execution_count": 14,
   "metadata": {},
   "outputs": [],
   "source": [
    "# make predictions\n",
    "trainPredict = model.predict(trainX)\n",
    "testPredict = model.predict(testX)"
   ]
  },
  {
   "cell_type": "markdown",
   "metadata": {},
   "source": [
    "#### Scatter plot representing the model predictions on training set"
   ]
  },
  {
   "cell_type": "code",
   "execution_count": 15,
   "metadata": {},
   "outputs": [
    {
     "data": {
      "image/png": "[encoded data removed]",
      "text/plain": [
       "<Figure size 432x288 with 1 Axes>"
      ]
     },
     "metadata": {
      "needs_background": "light"
     },
     "output_type": "display_data"
    }
   ],
   "source": [
    "fig, ax = plt.subplots()\n",
    "ax.scatter(trainY,trainPredict)\n",
    "ax.plot([trainY.min(), trainY.max()], [trainY.min(), trainY.max()], 'k--', lw=4)\n",
    "ax.set_xlabel('measured')\n",
    "ax.set_ylabel('predicted')\n",
    "plt.show()"
   ]
  },
  {
   "cell_type": "markdown",
   "metadata": {},
   "source": [
    "#### Scatter plot representing the model predictions on test set"
   ]
  },
  {
   "cell_type": "code",
   "execution_count": 16,
   "metadata": {},
   "outputs": [
    {
     "data": {
      "image/png": "[encoded data removed]",
      "text/plain": [
       "<Figure size 432x288 with 1 Axes>"
      ]
     },
     "metadata": {
      "needs_background": "light"
     },
     "output_type": "display_data"
    }
   ],
   "source": [
    "fig, ax = plt.subplots()\n",
    "ax.scatter(testY,testPredict)\n",
    "ax.plot([testY.min(), testY.max()], [testY.min(), testY.max()], 'k--', lw=4)\n",
    "ax.set_xlabel('measured')\n",
    "ax.set_ylabel('predicted')\n",
    "plt.show()"
   ]
  },
  {
   "cell_type": "markdown",
   "metadata": {},
   "source": [
    "#### Model loss Vs validation loss"
   ]
  },
  {
   "cell_type": "code",
   "execution_count": 17,
   "metadata": {},
   "outputs": [
    {
     "data": {
      "image/png": "[encoded data removed]",
      "text/plain": [
       "<Figure size 432x288 with 1 Axes>"
      ]
     },
     "metadata": {
      "needs_background": "light"
     },
     "output_type": "display_data"
    }
   ],
   "source": [
    "# \"Loss\"\n",
    "plt.plot(history.history['loss'])\n",
    "plt.plot(history.history['val_loss'])\n",
    "plt.title('model loss')\n",
    "plt.ylabel('loss')\n",
    "plt.xlabel('epoch')\n",
    "plt.legend(['train', 'validation'], loc='upper right')\n",
    "plt.show()"
   ]
  },
  {
   "cell_type": "markdown",
   "metadata": {},
   "source": [
    "#### Loss (MSE) on test data"
   ]
  },
  {
   "cell_type": "code",
   "execution_count": 18,
   "metadata": {},
   "outputs": [
    {
     "name": "stdout",
     "output_type": "stream",
     "text": [
      "35.50926819669187\n"
     ]
    }
   ],
   "source": [
    "mse = mean_squared_error(testY,testPredict)\n",
    "print(mse)"
   ]
  },
  {
   "cell_type": "code",
   "execution_count": null,
   "metadata": {},
   "outputs": [],
   "source": []
  }
 ],
 "metadata": {
  "kernelspec": {
   "display_name": "Python 3",
   "language": "python",
   "name": "python3"
  },
  "language_info": {
   "codemirror_mode": {
    "name": "ipython",
    "version": 3
   },
   "file_extension": ".py",
   "mimetype": "text/x-python",
   "name": "python",
   "nbconvert_exporter": "python",
   "pygments_lexer": "ipython3",
   "version": "3.6.7"
  }
 },
 "nbformat": 4,
 "nbformat_minor": 4
}

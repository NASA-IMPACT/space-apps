{
 "metadata": {
  "language_info": {
   "codemirror_mode": {
    "name": "ipython",
    "version": 3
   },
   "file_extension": ".py",
   "mimetype": "text/x-python",
   "name": "python",
   "nbconvert_exporter": "python",
   "pygments_lexer": "ipython3",
   "version": "3.6.9-final"
  },
  "orig_nbformat": 2,
  "kernelspec": {
   "name": "python_defaultSpec_1598916400685",
   "display_name": "Python 3.6.9 64-bit ('activate': venv)"
  }
 },
 "nbformat": 4,
 "nbformat_minor": 2,
 "cells": [
  {
   "cell_type": "code",
   "execution_count": null,
   "metadata": {},
   "outputs": [],
   "source": [
    "import fiona\n",
    "import requests\n",
    "import os\n",
    "import re\n",
    "from datetime import datetime\n",
    "import rasterio.features\n",
    "import numpy as np\n",
    "\n",
    "from io import BytesIO\n",
    "from PIL import Image"
   ]
  },
  {
   "cell_type": "code",
   "execution_count": null,
   "metadata": {},
   "outputs": [],
   "source": [
    "# use this if you are using anything else than Aqua and TrueColor to generate the image in the image labeler\n",
    "def image_url(query_date, bbox, sensor, product, width, height):\n",
    "    BASE_URL = 'https://gibs.earthdata.nasa.gov/wms/epsg4326/best/wms.cgi'\n",
    "    param_dict = {\n",
    "        \"BBOX\": bbox,\n",
    "        \"CRS\": \"EPSG:4326\",\n",
    "        \"FORMAT\": \"image/jpeg\",\n",
    "        \"HEIGHT\": height,\n",
    "        \"LAYERS\": \"MODIS_%s_CorrectedReflectance_%s\" % (sensor, product),\n",
    "        \"REQUEST\": \"GetMap\",\n",
    "        \"SERVICE\": \"WMS\",\n",
    "        \"TIME\": query_date,\n",
    "        \"TRANSPARENT\": \"false\",\n",
    "        \"VERSION\": \"1.3.0\",\n",
    "        \"WIDTH\": width,\n",
    "    }\n",
    "\n",
    "    return \"{}?{}\".format(BASE_URL, urlencode(param_dict))"
   ]
  },
  {
   "cell_type": "code",
   "execution_count": null,
   "metadata": {},
   "outputs": [],
   "source": [
    "# NOTE: Use image_url function above to create a valid url, if the shapefile generation was not done in Aqua, TrueColor \n",
    "URL = \"https://gibs.earthdata.nasa.gov/wms/epsg4326/best/wms.cgi?SERVICE=WMS&REQUEST=GetMap&layers=MODIS_Aqua_CorrectedReflectance_TrueColor&version=1.3.0&crs=EPSG:4326&transparent=false&width={}&height={}&bbox={}&format=image/tiff&time={}\"\n",
    "KM_PER_DEG_AT_EQ = 111."
   ]
  },
  {
   "cell_type": "code",
   "execution_count": null,
   "metadata": {},
   "outputs": [],
   "source": [
    "def calculate_width_height(extent, resolution):\n",
    "    \"\"\"\n",
    "    extent: [lower_latitude, left_longitude, higher_latitude, right_longitude], EG: [51.46162974683544,-22.94768591772153,53.03698575949367,-20.952234968354432]\n",
    "    resolution: represents the pixel resolution, i.e. km/pixel. Should be a value from this list: [0.03, 0.06, 0.125, 0.25, 0.5, 1, 5, 10]\n",
    "    \"\"\"\n",
    "    lats = extent[::2]\n",
    "    lons = extent[1::2]\n",
    "    km_per_deg_at_lat = KM_PER_DEG_AT_EQ * np.cos(np.pi * np.mean(lats) / 180.)\n",
    "    width = int((lons[1] - lons[0]) * km_per_deg_at_lat / resolution)\n",
    "    height = int((lats[1] - lats[0]) * KM_PER_DEG_AT_EQ / resolution)\n",
    "    return (width, height)"
   ]
  },
  {
   "cell_type": "code",
   "execution_count": null,
   "metadata": {},
   "outputs": [],
   "source": [
    "def modis_url(time, extent, resolution):\n",
    "    \"\"\"\n",
    "    time: utc time in iso format EG: 2020-02-19T00:00:00Z\n",
    "    extent: [lower_latitude, left_longitude, higher_latitude, right_longitude], EG: [51.46162974683544,-22.94768591772153,53.03698575949367,-20.952234968354432]\n",
    "    resolution: represents the pixel resolution, i.e. km/pixel. Should be a value from this list: [0.03, 0.06, 0.125, 0.25, 0.5, 1, 5, 10]\n",
    "    \"\"\"\n",
    "    width, height = calculate_width_height(extent, resolution)\n",
    "    extent = ','.join(map(lambda x: str(x), extent))\n",
    "    return (width, height, URL.format(width, height, extent, time))\n"
   ]
  },
  {
   "cell_type": "code",
   "execution_count": null,
   "metadata": {},
   "outputs": [],
   "source": [
    "def explode(coords):\n",
    "    \"\"\"Explode a GeoJSON geometry's coordinates object and yield coordinate tuples.\n",
    "    As long as the input is conforming, the type of the geometry doesn't matter.\"\"\"\n",
    "    for e in coords:\n",
    "        if isinstance(e, (float, int)):\n",
    "            yield coords\n",
    "            break\n",
    "        else:\n",
    "            for f in explode(e):\n",
    "                yield f\n",
    "\n",
    "\n",
    "def get_bbox(fiona_shape, offset=0):\n",
    "    x, y = zip(*list(explode(fiona_shape['geometry']['coordinates'])))\n",
    "    return min(y) - offset, min(x) - offset, max(y) + offset, max(x) + offset"
   ]
  },
  {
   "cell_type": "code",
   "execution_count": null,
   "metadata": {},
   "outputs": [],
   "source": [
    "def bitmap_from_shp(fiona_shape, transform, img_shape):\n",
    "    \"\"\" extract out the smoke pixels using the shapefile\n",
    "     from the transform defined\n",
    "    Args:\n",
    "        fiona_shape (Collection): fiona shape collection obtained by fiona.open()\n",
    "        transfrom (rasterio.transfrom.Affine): rasterio transform object\n",
    "    \"\"\"\n",
    "    geoms = []\n",
    "    y_mtx = np.zeros((img_shape))\n",
    "    for shape in fiona_shape:\n",
    "        geoms.append(shape[\"geometry\"])\n",
    "\n",
    "    # raster the geoms onto a bitmap\n",
    "    geom_map = [(geo, 255) for geo in geoms]\n",
    "    y_mtx = rasterio.features.rasterize(\n",
    "        geom_map,\n",
    "        out_shape=(img_shape[0], img_shape[1]),\n",
    "        transform=transform\n",
    "    )\n",
    "\n",
    "    return y_mtx"
   ]
  },
  {
   "cell_type": "code",
   "execution_count": null,
   "metadata": {},
   "outputs": [],
   "source": [
    "input_folder = \"downloaded_layers\"\n",
    "for folder in os.listdir(input_folder):\n",
    "    internal_folder = f'{input_folder}/{folder}'\n",
    "    if not os.path.isdir(internal_folder):\n",
    "        continue\n",
    "\n",
    "    val = f\"{internal_folder}/{folder}.shp\"\n",
    "    with fiona.open(val) as shapefile:\n",
    "        bounding_box = get_bbox(shapefile[0])\n",
    "        phenomena = folder.split(\"_\")[0]\n",
    "\n",
    "        date = re.findall(r\"\\d{4}-\\d{2}-\\d{2}\", folder)[0]\n",
    "\n",
    "        width, height, url = modis_url(\n",
    "            f'{date}T00:00:00Z',\n",
    "            bounding_box,\n",
    "            0.25\n",
    "        )\n",
    "\n",
    "        date = datetime.strptime(date, \"%Y-%m-%d\")\n",
    "        day_of_year = str(date.timetuple().tm_yday).zfill(3)\n",
    "        datetimestr = f'{date.year}{day_of_year}000000'\n",
    "\n",
    "        # get the tiff\n",
    "        response = requests.get(url)\n",
    "        img = BytesIO(response.content)\n",
    "\n",
    "        # get the bitmap\n",
    "        btm = None\n",
    "        with rasterio.open(img) as dataset:\n",
    "            btm = bitmap_from_shp(shapefile, dataset.transform, (height, width))\n",
    "\n",
    "        bbox_str = \",\".join([str(bb) for bb in bounding_box])\n",
    "        name = f'phenomena-{phenomena}-datetime-{datetimestr}-bbox-{bbox_str}'\n",
    "        with open(f\"output/{name}.tif\", \"wb\") as write_file:\n",
    "            write_file.write(img.getbuffer())\n",
    "\n",
    "        image = Image.fromarray(btm)\n",
    "        image.save(f'output/{name}.bmp')"
   ]
  }
 ]
}
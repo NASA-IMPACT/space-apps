{
 "metadata": {
  "language_info": {
   "codemirror_mode": {
    "name": "ipython",
    "version": 3
   },
   "file_extension": ".py",
   "mimetype": "text/x-python",
   "name": "python",
   "nbconvert_exporter": "python",
   "pygments_lexer": "ipython3",
   "version": "3.6.9-final"
  },
  "orig_nbformat": 2,
  "kernelspec": {
   "name": "python_defaultSpec_1598897418766",
   "display_name": "Python 3.6.9 64-bit ('activate': venv)"
  }
 },
 "nbformat": 4,
 "nbformat_minor": 2,
 "cells": [
  {
   "cell_type": "code",
   "execution_count": null,
   "metadata": {},
   "outputs": [],
   "source": [
    "import requests\n",
    "import json"
   ]
  },
  {
   "cell_type": "code",
   "execution_count": null,
   "metadata": {
    "tags": []
   },
   "outputs": [],
   "source": [
    "# Example: simple cmr search query to get the list of collections\n",
    "# A full API documentation can be found in https://cmr.earthdata.nasa.gov/search/site/docs/search/api.html\n",
    "\n",
    "url = \"https://cmr.earthdata.nasa.gov/search/collections.json\"\n",
    "response = requests.get(url).text\n",
    "# print(response) to see the whole data\n",
    "\n",
    "# the collection's short nam can be found inside feed/entry[]/shortname\n",
    "response_dict = json.loads(response)\n",
    "for entry in response_dict[\"feed\"][\"entry\"]:\n",
    "    print(entry[\"short_name\"])"
   ]
  },
  {
   "cell_type": "code",
   "execution_count": null,
   "metadata": {},
   "outputs": [],
   "source": []
  },
  {
   "cell_type": "code",
   "execution_count": null,
   "metadata": {
    "tags": []
   },
   "outputs": [],
   "source": [
    "# Example: Get links to the datasets for MERRA data, ranging from 1999-2020 within the United States\n",
    "# A full API documentation can be found in https://cmr.earthdata.nasa.gov/search/site/docs/search/api.html\n",
    "\n",
    "url = \"https://cmr.earthdata.nasa.gov/search/collections.json?\"\n",
    "\n",
    "# modis data\n",
    "param1 = \"platform\" # https://cmr.earthdata.nasa.gov/search/site/docs/search/api.html#g-platform\n",
    "value1 = \"merra\"\n",
    "\n",
    "# ranging from 1999 - 2020\n",
    "param2 = \"temporal\" # https://cmr.earthdata.nasa.gov/search/site/docs/search/api.html#g-temporal\n",
    "value2 = \"1999-01-01T10:00:00Z,2020-09-01T12:00:00Z\" # between the given date\n",
    "\n",
    "# within united states\n",
    "param3 = \"bounding_box\" # https://cmr.earthdata.nasa.gov/search/site/docs/search/api.html#c-bounding-box\n",
    "value3 = \"-160,12,-41,80\"  #lower left longitude, lower left latitude, upper right longitude, upper right latitude.\n",
    "\n",
    "\n",
    "url += param1 + '=' + value1 + \"&\"\n",
    "url += param2 + '=' + value2 + \"&\"\n",
    "url += param3 + '=' + value3\n",
    "\n",
    "response = json.loads(requests.get(url).text)\n",
    "\n",
    "links = []\n",
    "for entry in response[\"feed\"][\"entry\"]:\n",
    "    links += [link[\"href\"] for link in entry.get(\"links\", [])]\n",
    "print(links)\n",
    "\n"
   ]
  },
  {
   "cell_type": "code",
   "execution_count": 17,
   "metadata": {
    "tags": []
   },
   "outputs": [
    {
     "output_type": "stream",
     "name": "stdout",
     "text": "https://cmr.earthdata.nasa.gov/search/collections.json?platform=merra&temporal=1999-01-01T10:00:00Z,2020-09-01T12:00:00Z&bounding_box=-160,12,-41,80\n"
    }
   ],
   "source": [
    "# url maker based on dictonary params\n",
    "def url_maker(base_url, params):\n",
    "    base_url += \"?\"\n",
    "    for key, val in params.items():\n",
    "        base_url += f\"{key}={val}&\"\n",
    "    return base_url[:-1]"
   ]
  },
  {
   "cell_type": "code",
   "execution_count": 18,
   "metadata": {
    "tags": []
   },
   "outputs": [
    {
     "output_type": "stream",
     "name": "stdout",
     "text": "['https://docserver.gesdisc.eosdis.nasa.gov/public/project/Images/MAC0FXCHM_5.2.0.png', 'https://disc.gsfc.nasa.gov/datacollection/MAC0FXCHM_5.2.0.html', 'https://goldsmr1.gesdisc.eosdis.nasa.gov/data/MERRA_MONTHLY/MAC0FXCHM.5.2.0/', 'https://disc.gsfc.nasa.gov/daac-bin/FTPSubset.pl?LOOKUPID_List=MAC0FXCHM', 'https://disc.gsfc.nasa.gov/SSW/', 'https://giovanni.gsfc.nasa.gov/giovanni/#variableFacets=dataProductPlatformInstrument%3AMERRA%20Model%3B', 'https://search.earthdata.nasa.gov/search?q=MAC0FXCHM', 'https://goldsmr1.gesdisc.eosdis.nasa.gov/dods/MAC0FXCHM.info', 'https://goldsmr1.gesdisc.eosdis.nasa.gov/opendap/MERRA_MONTHLY/MAC0FXCHM.5.2.0/contents.html', 'https://gmao.gsfc.nasa.gov/', 'https://gmao.gsfc.nasa.gov/products/documents/MERRA_File_Specification.pdf', 'https://goldsmr1.gesdisc.eosdis.nasa.gov/data/MERRA_MONTHLY/MAC0FXCHM.5.2.0/doc/MERRA.README.pdf', 'https://docserver.gesdisc.eosdis.nasa.gov/public/project/Images/MAC0NXASM_5.2.0.png', 'https://disc.gsfc.nasa.gov/datacollection/MAC0NXASM_5.2.0.html', 'https://goldsmr3.gesdisc.eosdis.nasa.gov/data/MERRA_MONTHLY/MAC0NXASM.5.2.0/', 'https://disc.gsfc.nasa.gov/daac-bin/FTPSubset.pl?LOOKUPID_List=MAC0NXASM', 'https://disc.gsfc.nasa.gov/SSW/', 'https://giovanni.gsfc.nasa.gov/giovanni/#variableFacets=dataProductPlatformInstrument%3AMERRA%20Model%3B', 'https://search.earthdata.nasa.gov/search?q=MAC0NXASM', 'https://goldsmr3.gesdisc.eosdis.nasa.gov/dods/MAC0NXASM.info', 'https://goldsmr3.gesdisc.eosdis.nasa.gov/opendap/MERRA_MONTHLY/MAC0NXASM.5.2.0/contents.html', 'https://gmao.gsfc.nasa.gov/', 'https://gmao.gsfc.nasa.gov/products/documents/MERRA_File_Specification.pdf', 'https://goldsmr3.gesdisc.eosdis.nasa.gov/data/MERRA_MONTHLY/MAC0NXASM.5.2.0/doc/MERRA.README.pdf', 'https://docserver.gesdisc.eosdis.nasa.gov/public/project/Images/MAI1NXINT_5.2.0.gif', 'https://disc.gsfc.nasa.gov/information/howto?tags=MERRA', 'https://disc.gsfc.nasa.gov/datacollection/MAI1NXINT_5.2.0.html', 'https://goldsmr2.gesdisc.eosdis.nasa.gov/data/MERRA/MAI1NXINT.5.2.0/', 'https://disc.gsfc.nasa.gov/SSW/', 'https://giovanni.gsfc.nasa.gov/giovanni/#variableFacets=dataProductPlatformInstrument%3AMERRA%20Model%3B', 'https://search.earthdata.nasa.gov/search?q=MAI1NXINT', 'https://goldsmr2.gesdisc.eosdis.nasa.gov/dods/MAI1NXINT.info', 'https://goldsmr2.gesdisc.eosdis.nasa.gov/opendap/MERRA/MAI1NXINT.5.2.0/contents.html', 'https://gmao.gsfc.nasa.gov/', 'https://gmao.gsfc.nasa.gov/products/documents/MERRA_File_Specification.pdf', 'https://goldsmr2.gesdisc.eosdis.nasa.gov/data/MERRA/MAI1NXINT.5.2.0/doc/MERRA.README.pdf', 'https://docserver.gesdisc.eosdis.nasa.gov/public/project/Images/MAI3CPASM_5.2.0.png', 'https://disc.gsfc.nasa.gov/information/howto?tags=MERRA', 'https://disc.gsfc.nasa.gov/datacollection/MAI3CPASM_5.2.0.html', 'https://goldsmr3.gesdisc.eosdis.nasa.gov/data/MERRA/MAI3CPASM.5.2.0/', 'https://disc.gsfc.nasa.gov/SSW/', 'https://giovanni.gsfc.nasa.gov/giovanni/#variableFacets=dataProductPlatformInstrument%3AMERRA%20Model%3B', 'https://search.earthdata.nasa.gov/search?q=MAI3CPASM', 'https://goldsmr3.gesdisc.eosdis.nasa.gov/dods/MAI3CPASM.info', 'https://goldsmr3.gesdisc.eosdis.nasa.gov/opendap/MERRA/MAI3CPASM.5.2.0/contents.html', 'https://gmao.gsfc.nasa.gov/', 'https://gmao.gsfc.nasa.gov/products/documents/MERRA_File_Specification.pdf', 'https://goldsmr3.gesdisc.eosdis.nasa.gov/data/MERRA/MAI3CPASM.5.2.0/doc/MERRA.README.pdf', 'https://docserver.gesdisc.eosdis.nasa.gov/public/project/Images/MAI3NECHM_5.2.0.png', 'https://disc.gsfc.nasa.gov/information/howto?tags=MERRA', 'https://disc.gsfc.nasa.gov/datacollection/MAI3NECHM_5.2.0.html', 'https://goldsmr1.gesdisc.eosdis.nasa.gov/data/MERRA/MAI3NECHM.5.2.0/', 'https://disc.gsfc.nasa.gov/SSW/', 'https://giovanni.gsfc.nasa.gov/giovanni/#variableFacets=dataProductPlatformInstrument%3AMERRA%20Model%3B', 'https://search.earthdata.nasa.gov/search?q=MAI3NECHM', 'https://goldsmr1.gesdisc.eosdis.nasa.gov/dods/MAI3NECHM.info', 'https://goldsmr1.gesdisc.eosdis.nasa.gov/opendap/MERRA/MAI3NECHM.5.2.0/contents.html', 'https://gmao.gsfc.nasa.gov/', 'https://gmao.gsfc.nasa.gov/products/documents/MERRA_File_Specification.pdf', 'https://goldsmr1.gesdisc.eosdis.nasa.gov/data/MERRA/MAI3NECHM.5.2.0/doc/MERRA.README.pdf', 'https://docserver.gesdisc.eosdis.nasa.gov/public/project/Images/MAI6NPANA_5.2.0.png', 'https://disc.gsfc.nasa.gov/information/howto?tags=MERRA', 'https://disc.gsfc.nasa.gov/datacollection/MAI6NPANA_5.2.0.html', 'https://goldsmr3.gesdisc.eosdis.nasa.gov/data/MERRA/MAI6NPANA.5.2.0/', 'https://disc.gsfc.nasa.gov/SSW/', 'https://giovanni.gsfc.nasa.gov/giovanni/#variableFacets=dataProductPlatformInstrument%3AMERRA%20Model%3B', 'https://search.earthdata.nasa.gov/search?q=MAI6NPANA', 'https://goldsmr3.gesdisc.eosdis.nasa.gov/dods/MAI6NPANA.info', 'https://goldsmr3.gesdisc.eosdis.nasa.gov/opendap/MERRA/MAI6NPANA.5.2.0/contents.html', 'https://gmao.gsfc.nasa.gov/', 'https://gmao.gsfc.nasa.gov/products/documents/MERRA_File_Specification.pdf', 'https://goldsmr3.gesdisc.eosdis.nasa.gov/data/MERRA/MAI6NPANA.5.2.0/doc/MERRA.README.pdf', 'https://docserver.gesdisc.eosdis.nasa.gov/public/project/Images/MAI6NVANA_5.2.0.png', 'https://disc.gsfc.nasa.gov/information/howto?tags=MERRA', 'https://disc.gsfc.nasa.gov/datacollection/MAI6NVANA_5.2.0.html', 'https://goldsmr3.gesdisc.eosdis.nasa.gov/data/MERRA/MAI6NVANA.5.2.0/', 'https://disc.gsfc.nasa.gov/SSW/', 'https://giovanni.gsfc.nasa.gov/giovanni/#variableFacets=dataProductPlatformInstrument%3AMERRA%20Model%3B', 'https://search.earthdata.nasa.gov/search?q=MAI6NVANA', 'https://goldsmr3.gesdisc.eosdis.nasa.gov/dods/MAI6NVANA.info', 'https://goldsmr3.gesdisc.eosdis.nasa.gov/opendap/MERRA/MAI6NVANA.5.2.0/contents.html', 'https://gmao.gsfc.nasa.gov/', 'https://gmao.gsfc.nasa.gov/products/documents/MERRA_File_Specification.pdf', 'https://goldsmr3.gesdisc.eosdis.nasa.gov/data/MERRA/MAI6NVANA.5.2.0/doc/MERRA.README.pdf', 'https://docserver.gesdisc.eosdis.nasa.gov/public/project/Images/MAIMCPASM_5.2.0.png', 'https://disc.gsfc.nasa.gov/information/howto?tags=MERRA', 'https://disc.gsfc.nasa.gov/datacollection/MAIMCPASM_5.2.0.html', 'https://goldsmr3.gesdisc.eosdis.nasa.gov/data/MERRA_MONTHLY/MAIMCPASM.5.2.0/', 'https://disc.gsfc.nasa.gov/SSW/', 'https://giovanni.gsfc.nasa.gov/giovanni/#variableFacets=dataProductPlatformInstrument%3AMERRA%20Model%3B', 'https://search.earthdata.nasa.gov/search?q=MAIMCPASM', 'https://goldsmr3.gesdisc.eosdis.nasa.gov/dods/MAIMCPASM.info', 'https://goldsmr3.gesdisc.eosdis.nasa.gov/opendap/MERRA_MONTHLY/MAIMCPASM.5.2.0/contents.html', 'https://gmao.gsfc.nasa.gov/', 'https://gmao.gsfc.nasa.gov/products/documents/MERRA_File_Specification.pdf', 'https://goldsmr3.gesdisc.eosdis.nasa.gov/data/MERRA_MONTHLY/MAIMCPASM.5.2.0/doc/MERRA.README.pdf', 'https://docserver.gesdisc.eosdis.nasa.gov/public/project/Images/MAIMNPANA_5.2.0.gif', 'https://disc.gsfc.nasa.gov/information/howto?tags=MERRA', 'https://disc.gsfc.nasa.gov/datacollection/MAIMNPANA_5.2.0.html', 'https://goldsmr3.gesdisc.eosdis.nasa.gov/data/MERRA_MONTHLY/MAIMNPANA.5.2.0/', 'https://disc.gsfc.nasa.gov/SSW/', 'https://giovanni.gsfc.nasa.gov/giovanni/#variableFacets=dataProductPlatformInstrument%3AMERRA%20Model%3B', 'https://search.earthdata.nasa.gov/search?q=MAIMNPANA', 'https://goldsmr3.gesdisc.eosdis.nasa.gov/dods/MAIMNPANA.info', 'https://goldsmr3.gesdisc.eosdis.nasa.gov/opendap/MERRA_MONTHLY/MAIMNPANA.5.2.0/contents.html', 'https://gmao.gsfc.nasa.gov/', 'https://gmao.gsfc.nasa.gov/products/documents/MERRA_File_Specification.pdf', 'https://goldsmr3.gesdisc.eosdis.nasa.gov/data/MERRA_MONTHLY/MAIMNPANA.5.2.0/doc/MERRA.README.pdf', 'https://docserver.gesdisc.eosdis.nasa.gov/public/project/Images/MAIMNXINT_5.2.0.png', 'https://disc.gsfc.nasa.gov/information/howto?tags=MERRA', 'https://disc.gsfc.nasa.gov/datacollection/MAIMNXINT_5.2.0.html', 'https://goldsmr2.gesdisc.eosdis.nasa.gov/data/MERRA_MONTHLY/MAIMNXINT.5.2.0/', 'https://disc.gsfc.nasa.gov/SSW/', 'https://giovanni.gsfc.nasa.gov/giovanni/#variableFacets=dataProductPlatformInstrument%3AMERRA%20Model%3B', 'https://search.earthdata.nasa.gov/search?q=MAIMNXINT', 'https://goldsmr2.gesdisc.eosdis.nasa.gov/dods/MAIMNXINT.info', 'https://goldsmr2.gesdisc.eosdis.nasa.gov/opendap/MERRA_MONTHLY/MAIMNXINT.5.2.0/contents.html', 'https://gmao.gsfc.nasa.gov/', 'https://gmao.gsfc.nasa.gov/products/documents/MERRA_File_Specification.pdf', 'https://goldsmr2.gesdisc.eosdis.nasa.gov/data/MERRA_MONTHLY/MAIMNXINT.5.2.0/doc/MERRA.README.pdf']\n"
    }
   ],
   "source": [
    "# for prev example\n",
    "params = {\n",
    "    \"platform\": \"merra\",\n",
    "    \"temporal\": \"1999-01-01T10:00:00Z,2020-09-01T12:00:00Z\",\n",
    "    \"bounding_box\": \"-160,12,-41,80\",\n",
    "}\n",
    "url = \"https://cmr.earthdata.nasa.gov/search/collections.json\"\n",
    "url = url_maker(url, params)\n",
    "\n",
    "response = json.loads(requests.get(url).text)\n",
    "\n",
    "links = []\n",
    "for entry in response[\"feed\"][\"entry\"]:\n",
    "    links += [link[\"href\"] for link in entry.get(\"links\", [])]\n",
    "print(links)"
   ]
  },
  {
   "cell_type": "code",
   "execution_count": null,
   "metadata": {},
   "outputs": [],
   "source": []
  }
 ]
}
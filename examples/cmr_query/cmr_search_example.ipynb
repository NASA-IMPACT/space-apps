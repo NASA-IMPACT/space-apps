{
 "metadata": {
  "language_info": {
   "codemirror_mode": {
    "name": "ipython",
    "version": 3
   },
   "file_extension": ".py",
   "mimetype": "text/x-python",
   "name": "python",
   "nbconvert_exporter": "python",
   "pygments_lexer": "ipython3",
   "version": "3.6.9-final"
  },
  "orig_nbformat": 2,
  "kernelspec": {
   "name": "python_defaultSpec_1598897418766",
   "display_name": "Python 3.6.9 64-bit ('activate': venv)"
  }
 },
 "nbformat": 4,
 "nbformat_minor": 2,
 "cells": [
  {
   "cell_type": "code",
   "execution_count": null,
   "metadata": {},
   "outputs": [],
   "source": [
    "import requests\n",
    "import json"
   ]
  },
  {
   "cell_type": "code",
   "execution_count": null,
   "metadata": {
    "tags": []
   },
   "outputs": [],
   "source": [
    "# Example: simple cmr search query to get the list of collections\n",
    "# A full API documentation can be found in https://cmr.earthdata.nasa.gov/search/site/docs/search/api.html\n",
    "\n",
    "url = \"https://cmr.earthdata.nasa.gov/search/collections.json\"\n",
    "response = requests.get(url).text\n",
    "# print(response) to see the whole data\n",
    "\n",
    "# the collection's short nam can be found inside feed/entry[]/shortname\n",
    "response_dict = json.loads(response)\n",
    "for entry in response_dict[\"feed\"][\"entry\"]:\n",
    "    print(entry[\"short_name\"])"
   ]
  },
  {
   "cell_type": "code",
   "execution_count": null,
   "metadata": {},
   "outputs": [],
   "source": []
  },
  {
   "cell_type": "code",
   "execution_count": null,
   "metadata": {
    "tags": []
   },
   "outputs": [],
   "source": [
    "# Example: Get links to the datasets for MERRA data, ranging from 1999-2020 within the United States\n",
    "# A full API documentation can be found in https://cmr.earthdata.nasa.gov/search/site/docs/search/api.html\n",
    "\n",
    "url = \"https://cmr.earthdata.nasa.gov/search/collections.json?\"\n",
    "\n",
    "# modis data\n",
    "param1 = \"platform\" # https://cmr.earthdata.nasa.gov/search/site/docs/search/api.html#g-platform\n",
    "value1 = \"merra\"\n",
    "\n",
    "# ranging from 1999 - 2020\n",
    "param2 = \"temporal\" # https://cmr.earthdata.nasa.gov/search/site/docs/search/api.html#g-temporal\n",
    "value2 = \"1999-01-01T10:00:00Z,2020-09-01T12:00:00Z\" # between the given date\n",
    "\n",
    "# within united states\n",
    "param3 = \"bounding_box\" # https://cmr.earthdata.nasa.gov/search/site/docs/search/api.html#c-bounding-box\n",
    "value3 = \"-160,12,-41,80\"  #lower left longitude, lower left latitude, upper right longitude, upper right latitude.\n",
    "\n",
    "\n",
    "url += param1 + '=' + value1 + \"&\"\n",
    "url += param2 + '=' + value2 + \"&\"\n",
    "url += param3 + '=' + value3\n",
    "\n",
    "response = json.loads(requests.get(url).text)\n",
    "\n",
    "links = []\n",
    "for entry in response[\"feed\"][\"entry\"]:\n",
    "    links += [link[\"href\"] for link in entry.get(\"links\", [])]\n",
    "print(links)\n",
    "\n"
   ]
  },
  {
   "cell_type": "code",
   "execution_count": null,
   "metadata": {
    "tags": []
   },
   "outputs": [],
   "source": [
    "# url maker based on dictonary params\n",
    "def url_maker(base_url, params):\n",
    "    base_url += \"?\"\n",
    "    for key, val in params.items():\n",
    "        base_url += f\"{key}={val}&\"\n",
    "    return base_url[:-1]"
   ]
  },
  {
   "cell_type": "code",
   "execution_count": null,
   "metadata": {
    "tags": []
   },
   "outputs": [],
   "source": [
    "# for prev example\n",
    "params = {\n",
    "    \"platform\": \"merra\",\n",
    "    \"temporal\": \"1999-01-01T10:00:00Z,2020-09-01T12:00:00Z\",\n",
    "    \"bounding_box\": \"-160,12,-41,80\",\n",
    "}\n",
    "url = \"https://cmr.earthdata.nasa.gov/search/collections.json\"\n",
    "url = url_maker(url, params)\n",
    "\n",
    "response = json.loads(requests.get(url).text)\n",
    "\n",
    "links = []\n",
    "for entry in response[\"feed\"][\"entry\"]:\n",
    "    links += [link[\"href\"] for link in entry.get(\"links\", [])]\n",
    "print(links)"
   ]
  },
  {
   "cell_type": "code",
   "execution_count": null,
   "metadata": {},
   "outputs": [],
   "source": []
  }
 ]
}